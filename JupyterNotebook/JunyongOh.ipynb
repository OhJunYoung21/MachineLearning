{
 "cells": [
  {
   "cell_type": "code",
   "execution_count": 4,
   "id": "5f22b11c-a105-4aae-9aa1-3a42b05ad8d4",
   "metadata": {},
   "outputs": [
    {
     "name": "stdout",
     "output_type": "stream",
     "text": [
      "Current virtual environment: /home/anaconda3/envs/jupyterhub\n"
     ]
    }
   ],
   "source": [
    "import sys\n",
    "print(\"Current virtual environment:\", sys.prefix)"
   ]
  },
  {
   "cell_type": "code",
   "execution_count": null,
   "id": "5abe07e3-f1e3-48ec-b772-443dfdeb0458",
   "metadata": {},
   "outputs": [],
   "source": []
  }
 ],
 "metadata": {
  "kernelspec": {
   "display_name": "Python (myenv)",
   "language": "python",
   "name": "myenv"
  },
  "language_info": {
   "codemirror_mode": {
    "name": "ipython",
    "version": 3
   },
   "file_extension": ".py",
   "mimetype": "text/x-python",
   "name": "python",
   "nbconvert_exporter": "python",
   "pygments_lexer": "ipython3",
   "version": "3.8.20"
  }
 },
 "nbformat": 4,
 "nbformat_minor": 5
}
