{
 "cells": [
  {
   "cell_type": "code",
   "execution_count": null,
   "id": "9c5d7edf-120c-415d-b9b2-da9989d019e8",
   "metadata": {},
   "outputs": [],
   "source": [
    "import sys\n",
    "print(\"Current virtual environment:\", sys.prefix)"
   ]
  },
  {
   "cell_type": "markdown",
   "id": "c5ff18bd-5f95-426f-9ec3-325d4fd6a311",
   "metadata": {},
   "source": [
    "위 코드는 현재 내가 어떤 가상환경을 사용하고 있는지를 알기 위한 명령어이다."
   ]
  }
 ],
 "metadata": {
  "kernelspec": {
   "display_name": "Python (myenv)",
   "language": "python",
   "name": "myenv"
  },
  "language_info": {
   "codemirror_mode": {
    "name": "ipython",
    "version": 3
   },
   "file_extension": ".py",
   "mimetype": "text/x-python",
   "name": "python",
   "nbconvert_exporter": "python",
   "pygments_lexer": "ipython3",
   "version": "3.8.20"
  }
 },
 "nbformat": 4,
 "nbformat_minor": 5
}
